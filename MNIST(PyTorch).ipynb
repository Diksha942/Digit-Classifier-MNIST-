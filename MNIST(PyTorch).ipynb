{
  "nbformat": 4,
  "nbformat_minor": 0,
  "metadata": {
    "colab": {
      "name": "MNIST_pytorch(final) .ipynb",
      "provenance": [],
      "collapsed_sections": []
    },
    "kernelspec": {
      "name": "python3",
      "display_name": "Python 3"
    }
  },
  "cells": [
    {
      "cell_type": "code",
      "metadata": {
        "id": "gzBj17kH33wx"
      },
      "source": [
        "import torch\n",
        "import torch.nn as nn\n",
        "import torch.nn.functional as F\n",
        "import torchvision\n",
        "import torch.optim as optim\n",
        "import matplotlib.pyplot as plt\n"
      ],
      "execution_count": 1,
      "outputs": []
    },
    {
      "cell_type": "code",
      "metadata": {
        "colab": {
          "base_uri": "https://localhost:8080/"
        },
        "id": "vO1iM16jr_HQ",
        "outputId": "b4735d0e-0949-42ee-a3a9-13e11096f831"
      },
      "source": [
        "path = '/gdrive/My Drive'\n",
        "trans = torchvision.transforms.Compose([torchvision.transforms.ToTensor(), torchvision.transforms.Normalize((0.1307,), (0.3081,))])\n",
        "train_set = torchvision.datasets.MNIST(root = path, train = True, transform = trans, download=True)\n",
        "test_set = torchvision.datasets.MNIST(root = path, train = False, transform = trans)\n",
        "\n",
        "batch_size = 128\n",
        "train_loader = torch.utils.data.DataLoader(dataset = train_set, batch_size = batch_size)\n",
        "test_loader = torch.utils.data.DataLoader(dataset = test_set, batch_size = batch_size)\n",
        "\n",
        "examples = enumerate(test_loader)\n",
        "batch_idx, (example_data, example_targets) = next(examples)\n",
        "print(example_data.size())\n",
        "print(example_targets)\n"
      ],
      "execution_count": 2,
      "outputs": [
        {
          "output_type": "stream",
          "name": "stdout",
          "text": [
            "torch.Size([128, 1, 28, 28])\n",
            "tensor([7, 2, 1, 0, 4, 1, 4, 9, 5, 9, 0, 6, 9, 0, 1, 5, 9, 7, 3, 4, 9, 6, 6, 5,\n",
            "        4, 0, 7, 4, 0, 1, 3, 1, 3, 4, 7, 2, 7, 1, 2, 1, 1, 7, 4, 2, 3, 5, 1, 2,\n",
            "        4, 4, 6, 3, 5, 5, 6, 0, 4, 1, 9, 5, 7, 8, 9, 3, 7, 4, 6, 4, 3, 0, 7, 0,\n",
            "        2, 9, 1, 7, 3, 2, 9, 7, 7, 6, 2, 7, 8, 4, 7, 3, 6, 1, 3, 6, 9, 3, 1, 4,\n",
            "        1, 7, 6, 9, 6, 0, 5, 4, 9, 9, 2, 1, 9, 4, 8, 7, 3, 9, 7, 4, 4, 4, 9, 2,\n",
            "        5, 4, 7, 6, 7, 9, 0, 5])\n"
          ]
        },
        {
          "output_type": "stream",
          "name": "stderr",
          "text": [
            "/usr/local/lib/python3.7/dist-packages/torchvision/datasets/mnist.py:498: UserWarning: The given NumPy array is not writeable, and PyTorch does not support non-writeable tensors. This means you can write to the underlying (supposedly non-writeable) NumPy array using the tensor. You may want to copy the array to protect its data or make it writeable before converting it to a tensor. This type of warning will be suppressed for the rest of this program. (Triggered internally at  /pytorch/torch/csrc/utils/tensor_numpy.cpp:180.)\n",
            "  return torch.from_numpy(parsed.astype(m[2], copy=False)).view(*s)\n"
          ]
        }
      ]
    },
    {
      "cell_type": "code",
      "metadata": {
        "id": "nK6bpwhi4buo"
      },
      "source": [
        " class Net(nn.Module):\n",
        "   \n",
        "  def __init__(self):\n",
        "    super(Net, self).__init__()\n",
        " \n",
        "    self.conv1 = nn.Conv2d(1, 32, kernel_size = 5, padding = 2)\n",
        "    self.conv2 = nn.Conv2d(32, 64, kernel_size = 5, padding = 2)\n",
        "    self.conv2_drop = nn.Dropout2d()\n",
        "\n",
        "    self.fc1 = nn.Linear(7*7*64, 1000)\n",
        "    self.fc2 = nn.Linear(1000, 150)\n",
        "    self.fc3 = nn.Linear(150, 10)\n",
        "\n",
        "  def forward(self, x):\n",
        "    x = F.max_pool2d(F.relu(self.conv1(x)), kernel_size = 2, stride = 2)\n",
        "    x = F.max_pool2d(F.relu(self.conv2_drop(self.conv2(x))), kernel_size = 2, stride = 2)\n",
        "\n",
        "    x = x.view(-1, 7*7*64)\n",
        "    x = F.relu(self.fc1(x))\n",
        "    x = F.relu(self.fc2(x))\n",
        "    x = self.fc3(x)\n",
        "    \n",
        "    return(x)\n"
      ],
      "execution_count": 3,
      "outputs": []
    },
    {
      "cell_type": "code",
      "metadata": {
        "id": "75VeTm8ugv9Z"
      },
      "source": [
        "net = Net()\n",
        "\n",
        "#Loss and optimizer\n",
        "calc_loss = nn.CrossEntropyLoss()\n",
        "optimizer = torch.optim.Adam(net.parameters(), lr = 0.001)"
      ],
      "execution_count": 4,
      "outputs": []
    },
    {
      "cell_type": "code",
      "metadata": {
        "colab": {
          "base_uri": "https://localhost:8080/",
          "height": 433
        },
        "id": "4l5Gdr9p18yk",
        "outputId": "d9e00491-4d2c-43de-869e-c8f363fae0ba"
      },
      "source": [
        "total_step = len(train_loader)\n",
        "\n",
        "loss_list = []\n",
        "x_list=[]\n",
        "acc_list = []\n",
        "num_epochs = 100\n",
        "\n",
        "for epoch in range(num_epochs):\n",
        "\n",
        "  loss_acc = 0\n",
        "  for i, (images, labels) in enumerate(train_loader):\n",
        "\n",
        "    optimizer.zero_grad()\n",
        "    # Run the forward pass\n",
        "    outputs = net(images)\n",
        "    loss= calc_loss(outputs, labels)\n",
        "    loss.backward()\n",
        "    optimizer.step()\n",
        "    loss_acc += loss.item()\n",
        "\n",
        "    # Track the accuracy\n",
        "    total = labels.size(0)\n",
        "    _, predicted = torch.max(outputs.data, 1)\n",
        "    correct = (predicted == labels).sum().item()\n",
        "\n",
        "    acc_list.append(correct / total)\n",
        "\n",
        "  loss = loss_acc/(i+1)\n",
        "  loss_list.append(loss)\n",
        "  x_list.append(epoch+1)\n",
        "\n",
        "  if epoch % 10 == 0:\n",
        "    print(\"Epoch : {} | Loss : {}\".format(epoch, loss))\n",
        "\n",
        "plt.plot(x_list, loss_list)\n",
        "plt.show()"
      ],
      "execution_count": 6,
      "outputs": [
        {
          "output_type": "stream",
          "name": "stdout",
          "text": [
            "Epoch : 0 | Loss : 0.05574562294781754\n",
            "Epoch : 10 | Loss : 0.01639160851178717\n",
            "Epoch : 20 | Loss : 0.009543458500856703\n",
            "Epoch : 30 | Loss : 0.007404328751789111\n",
            "Epoch : 40 | Loss : 0.00733136053609979\n",
            "Epoch : 50 | Loss : 0.006232329583800971\n",
            "Epoch : 60 | Loss : 0.004252039032893121\n",
            "Epoch : 70 | Loss : 0.005872088942912476\n",
            "Epoch : 80 | Loss : 0.006880939677850275\n",
            "Epoch : 90 | Loss : 0.00483300526147722\n"
          ]
        },
        {
          "output_type": "display_data",
          "data": {
            "image/png": "[encoded data removed]",
            "text/plain": [
              "<Figure size 432x288 with 1 Axes>"
            ]
          },
          "metadata": {
            "needs_background": "light"
          }
        }
      ]
    },
    {
      "cell_type": "code",
      "metadata": {
        "colab": {
          "base_uri": "https://localhost:8080/"
        },
        "id": "_N4rbbizXmUz",
        "outputId": "7b16ca9a-cf64-48fd-978c-628d65292fac"
      },
      "source": [
        "print(\"Epoch : {} | Loss : {}\".format(epoch, loss))\n",
        "print(\"Train Accuracy: {}\".format(acc_list[-1]*100))"
      ],
      "execution_count": 9,
      "outputs": [
        {
          "output_type": "stream",
          "name": "stdout",
          "text": [
            "Epoch : 99 | Loss : 0.005873605939532864\n",
            "Train Accuracy: 100.0\n"
          ]
        }
      ]
    },
    {
      "cell_type": "code",
      "metadata": {
        "id": "4Gzdl9ZsfiEx",
        "colab": {
          "base_uri": "https://localhost:8080/"
        },
        "outputId": "76533215-f55c-4c22-f922-15fc832aec42"
      },
      "source": [
        "#net.eval()\n",
        "with torch.no_grad():\n",
        "  correct = 0\n",
        "  total = 0\n",
        "  for image, label in test_loader:\n",
        "\n",
        "    output = net(image)\n",
        "    _, predict = torch.max(output.data, 1)\n",
        "    total += label.size(0)\n",
        "    correct += (predict == label).sum().item()\n",
        "\n",
        "  print('Test Accuracy of the model on the 10000 test images: {} %'.format((correct / total) * 100))"
      ],
      "execution_count": 10,
      "outputs": [
        {
          "output_type": "stream",
          "name": "stdout",
          "text": [
            "Test Accuracy of the model on the 10000 test images: 98.87 %\n"
          ]
        }
      ]
    },
    {
      "cell_type": "code",
      "metadata": {
        "id": "pqABVPEH5cap"
      },
      "source": [
        ""
      ],
      "execution_count": null,
      "outputs": []
    }
  ]
}